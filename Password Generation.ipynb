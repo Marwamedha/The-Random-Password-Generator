{
 "cells": [
  {
   "cell_type": "code",
   "execution_count": 2,
   "id": "1d7c3123-9802-4551-a4f9-653d776c6e54",
   "metadata": {},
   "outputs": [
    {
     "name": "stdout",
     "output_type": "stream",
     "text": [
      "Hi!\n"
     ]
    },
    {
     "name": "stdin",
     "output_type": "stream",
     "text": [
      "How many characters do you want for your password? (8–16) →  8\n"
     ]
    },
    {
     "name": "stdout",
     "output_type": "stream",
     "text": [
      "\n",
      "Your password is:  h4K=M+d3\n"
     ]
    }
   ],
   "source": [
    "import string\n",
    "import random\n",
    "\n",
    "# ---------- Setup ----------\n",
    "ALL_CHARS = string.ascii_letters + string.digits + string.punctuation   # 26+26+10+32 = 94 chars\n",
    "\n",
    "print(\"Hi!\")\n",
    "\n",
    "# ---------- Get the desired length ----------\n",
    "while True:\n",
    "    try:\n",
    "        length = int(input(\"How many characters do you want for your password? (8–16) → \"))\n",
    "        if 8 <= length <= 16:\n",
    "            break\n",
    "        else:\n",
    "            print(\"❗ The password must be between 8 and 16 characters. Please try again.\")\n",
    "    except ValueError:\n",
    "        print(\"❗ Numbers only, please!\")\n",
    "\n",
    "# ---------- Build the password ----------\n",
    "# Guarantee at least one char from each category\n",
    "quota = length // 4                       # how many of each type (may leave 0–3 leftover)\n",
    "password_parts = (\n",
    "    random.sample(string.ascii_lowercase, quota) +\n",
    "    random.sample(string.ascii_uppercase, quota) +\n",
    "    random.sample(string.digits,          quota) +\n",
    "    random.sample(string.punctuation,     quota)\n",
    ")\n",
    "\n",
    "# Add the leftovers from the full pool\n",
    "leftover = length - len(password_parts)\n",
    "password_parts += random.sample(ALL_CHARS, leftover)\n",
    "\n",
    "# Shuffle and join\n",
    "random.shuffle(password_parts)\n",
    "password = ''.join(password_parts)\n",
    "\n",
    "print(f\"\\nYour password is:  {password}\")\n",
    "\n",
    "    "
   ]
  },
  {
   "cell_type": "code",
   "execution_count": null,
   "id": "9dbe708f-b2e1-4a46-b4f3-0861a5412cae",
   "metadata": {},
   "outputs": [],
   "source": []
  }
 ],
 "metadata": {
  "kernelspec": {
   "display_name": "Python 3 (ipykernel)",
   "language": "python",
   "name": "python3"
  },
  "language_info": {
   "codemirror_mode": {
    "name": "ipython",
    "version": 3
   },
   "file_extension": ".py",
   "mimetype": "text/x-python",
   "name": "python",
   "nbconvert_exporter": "python",
   "pygments_lexer": "ipython3",
   "version": "3.12.4"
  }
 },
 "nbformat": 4,
 "nbformat_minor": 5
}
